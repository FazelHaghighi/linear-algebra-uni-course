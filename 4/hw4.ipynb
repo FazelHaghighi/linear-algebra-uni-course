{
 "cells": [
  {
   "attachments": {},
   "cell_type": "markdown",
   "metadata": {
    "collapsed": true,
    "pycharm": {
     "name": "#%% md\n"
    }
   },
   "source": [
    "<h3><div align=\"right\"> در سلول زیر، تابعی برای محاسبه‌ی بازگشتی دترمینان  تعریف کنید <h3></div>"
   ]
  },
  {
   "cell_type": "code",
   "execution_count": 1,
   "metadata": {
    "collapsed": false,
    "pycharm": {
     "name": "#%%\n"
    }
   },
   "outputs": [],
   "source": [
    "def determinant(a):\n",
    "    \"\"\"\n",
    "    Calculates the determinant of a square matrix using recursive cofactor expansion.\n",
    "    \"\"\"\n",
    "    n = len(a)\n",
    "    if n == 1:\n",
    "        return a[0][0]\n",
    "    else:\n",
    "        det = 0\n",
    "        for i in range(n):\n",
    "            det += (-1) ** i * a[0][i] * determinant(get_minor(a, 0, i))\n",
    "        return det\n",
    "\n",
    "def get_minor(a, row, col):\n",
    "    \"\"\"\n",
    "    Returns the minor matrix obtained by removing the specified row and column from the matrix.\n",
    "    \"\"\"\n",
    "    return [row[:col] + row[col + 1:] for row in (a[:row] + a[row + 1:])]"
   ]
  },
  {
   "attachments": {},
   "cell_type": "markdown",
   "metadata": {
    "collapsed": false,
    "pycharm": {
     "name": "#%% md\n"
    }
   },
   "source": [
    "<div align=\"right\"><h3> .در سلول زیر قانون کرامر را در تابعی پیاده‌سازی کنید</h3></div>"
   ]
  },
  {
   "cell_type": "code",
   "execution_count": 2,
   "metadata": {
    "collapsed": false,
    "pycharm": {
     "name": "#%%\n"
    }
   },
   "outputs": [],
   "source": [
    "def cramer_rule(a, b):\n",
    "    \"\"\"\n",
    "    Applies Cramer's rule to solve a system of linear equations.\n",
    "    \"\"\"\n",
    "    result_multiplication = []\n",
    "    n = len(a)\n",
    "    for i in range(n):\n",
    "        result_multiplication.append(determinant(replace_column(a, b, i)))\n",
    "    return result_multiplication\n",
    "\n",
    "def replace_column(a, b, column_index):\n",
    "    \"\"\"\n",
    "    Replaces a column in the matrix with a given column vector.\n",
    "    \"\"\"\n",
    "    result = []\n",
    "    n = len(a)\n",
    "    for j in range(n):\n",
    "        row = []\n",
    "        for k in range(n):\n",
    "            if k == column_index:\n",
    "                row.append(b[j])\n",
    "            else:\n",
    "                row.append(a[j][k])\n",
    "        result.append(row)\n",
    "    return result"
   ]
  },
  {
   "attachments": {},
   "cell_type": "markdown",
   "metadata": {},
   "source": [
    "<h3><span style=\"color:yellow\"> Testing the functions </span></h3>"
   ]
  },
  {
   "cell_type": "code",
   "execution_count": 3,
   "metadata": {},
   "outputs": [
    {
     "name": "stdout",
     "output_type": "stream",
     "text": [
      "Minor matrix:\n",
      "[[5, 6], [8, 9]]\n",
      "\n",
      "Determinant of matrix a:\n",
      "0\n",
      "\n",
      "Matrix with replaced column:\n",
      "[[1, 2, 3], [2, 5, 6], [3, 8, 9]]\n",
      "\n",
      "Result of Cramer's rule:\n",
      "[0, 0, 0]\n"
     ]
    }
   ],
   "source": [
    "# The following code is for testing\n",
    "a = [[1, 2, 3], [4, 5, 6], [7, 8, 9]]\n",
    "b = [1, 2, 3]\n",
    "\n",
    "print(\"Minor matrix:\")\n",
    "print(get_minor(a, 0, 0))\n",
    "print()\n",
    "\n",
    "print(\"Determinant of matrix a:\")\n",
    "print(determinant(a))\n",
    "print()\n",
    "\n",
    "print(\"Matrix with replaced column:\")\n",
    "print(replace_column(a, b, 0))\n",
    "print()\n",
    "\n",
    "print(\"Result of Cramer's rule:\")\n",
    "print(cramer_rule(a, b))"
   ]
  },
  {
   "attachments": {},
   "cell_type": "markdown",
   "metadata": {
    "collapsed": false,
    "pycharm": {
     "name": "#%% md\n"
    }
   },
   "source": [
    "\tT(cX)=cT(X)"
   ]
  },
  {
   "cell_type": "code",
   "execution_count": 4,
   "metadata": {
    "collapsed": false,
    "pycharm": {
     "name": "#%%\n"
    }
   },
   "outputs": [
    {
     "name": "stdout",
     "output_type": "stream",
     "text": [
      "Original array: [[3 7 5 3 3]]\n",
      "Multiplying each element of x by a number: [[ 6 14 10  6  6]]\n",
      "Result of multiplying the array elements by a number and then passing it to the function: [42]\n",
      "Result of passing the array to the function and then multiplying the result by a number: [42]\n",
      "Checking if the two results are equal: True\n"
     ]
    }
   ],
   "source": [
    "import numpy as np\n",
    "\n",
    "def sum_of_elements(arr):\n",
    "    return np.sum(arr, axis=1)\n",
    "\n",
    "def multiply_array_elements(arr, num):\n",
    "    return arr * num\n",
    "\n",
    "x = np.random.randint(1, 10, (1, 5))\n",
    "c = 2\n",
    "\n",
    "print(\"Original array:\", x)\n",
    "print(\"Multiplying each element of x by a number:\", multiply_array_elements(x, c))\n",
    "\n",
    "result_multiply_then_sum = sum_of_elements(multiply_array_elements(x, c))\n",
    "result_sum_then_multiply = sum_of_elements(x) * c\n",
    "\n",
    "print(\"Result of multiplying the array elements by a number and then passing it to the function:\", result_multiply_then_sum)\n",
    "print(\"Result of passing the array to the function and then multiplying the result by a number:\", result_sum_then_multiply)\n",
    "print(\"Checking if the two results are equal:\", np.array_equal(result_multiply_then_sum, result_sum_then_multiply))"
   ]
  },
  {
   "attachments": {},
   "cell_type": "markdown",
   "metadata": {
    "collapsed": false,
    "pycharm": {
     "name": "#%% md\n"
    }
   },
   "source": [
    "\tT(u+v)=T(u)+T(v)"
   ]
  },
  {
   "cell_type": "code",
   "execution_count": 5,
   "metadata": {
    "collapsed": false,
    "pycharm": {
     "name": "#%%\n"
    }
   },
   "outputs": [
    {
     "name": "stdout",
     "output_type": "stream",
     "text": [
      "Original arrays:\n",
      "u: [[2 4 7 9 4]]\n",
      "v: [[8 7 4 7 2]]\n",
      "Result of applying the transformation to the sum of u and v: [54]\n",
      "Result of applying the transformation to u and v separately and summing them: [54]\n",
      "Checking if the two results are equal: True\n"
     ]
    }
   ],
   "source": [
    "import numpy as np\n",
    "\n",
    "def sum_of_elements(arr):\n",
    "    return np.sum(arr, axis=1)\n",
    "\n",
    "u = np.random.randint(1, 10, (1, 5))\n",
    "v = np.random.randint(1, 10, (1, 5))\n",
    "\n",
    "print(\"Original arrays:\")\n",
    "print(\"u:\", u)\n",
    "print(\"v:\", v)\n",
    "\n",
    "result1 = sum_of_elements(u + v)\n",
    "result2 = sum_of_elements(u) + sum_of_elements(v)\n",
    "\n",
    "print(\"Result of applying the transformation to the sum of u and v:\", result1)\n",
    "print(\"Result of applying the transformation to u and v separately and summing them:\", result2)\n",
    "print(\"Checking if the two results are equal:\", np.array_equal(result1, result2))"
   ]
  }
 ],
 "metadata": {
  "kernelspec": {
   "display_name": "Python 3",
   "language": "python",
   "name": "python3"
  },
  "language_info": {
   "codemirror_mode": {
    "name": "ipython",
    "version": 3
   },
   "file_extension": ".py",
   "mimetype": "text/x-python",
   "name": "python",
   "nbconvert_exporter": "python",
   "pygments_lexer": "ipython3",
   "version": "3.10.9"
  }
 },
 "nbformat": 4,
 "nbformat_minor": 0
}
