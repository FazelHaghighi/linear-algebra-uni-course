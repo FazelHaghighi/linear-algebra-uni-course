{
 "cells": [
  {
   "attachments": {},
   "cell_type": "markdown",
   "metadata": {
    "collapsed": true,
    "pycharm": {
     "name": "#%% md\n"
    }
   },
   "source": [
    "<div align=\"right\"><h3>در سلول زیر بخش مربوط به ترانهاده را کامل کنید<h3></div>"
   ]
  },
  {
   "cell_type": "code",
   "execution_count": 1,
   "metadata": {
    "collapsed": false,
    "pycharm": {
     "name": "#%%\n"
    }
   },
   "outputs": [],
   "source": [
    "import numpy as np\n",
    "def transpose_matrix(a):\n",
    "    result_transpose = [[0 for i in range(len(a))] for j in range(len(a[0]))]\n",
    "    for elements in range(len(a[0])):\n",
    "            result_transpose[elements] = [a[i][elements] for i in range(len(a))]\n",
    "    return result_transpose"
   ]
  },
  {
   "attachments": {},
   "cell_type": "markdown",
   "metadata": {
    "collapsed": false,
    "pycharm": {
     "name": "#%% md\n"
    }
   },
   "source": [
    "<div align=\"right\"><h3>در سلول زیر بخش مربوط به ضرب را کامل کنید<h3></div>"
   ]
  },
  {
   "cell_type": "code",
   "execution_count": 2,
   "metadata": {
    "collapsed": false,
    "pycharm": {
     "name": "#%%\n"
    }
   },
   "outputs": [],
   "source": [
    "def multiplication_matrix(a, b):\n",
    "    result_multiplication = [[0 for i in range(len(b[0]))] for j in range(len(a))]\n",
    "    for elements1 in range(len(a)):\n",
    "        for elements2 in range(len(b[0])):\n",
    "            for elements3 in range(len(b)):\n",
    "                result_multiplication[elements1][elements2] += a[elements1][elements3] * b[elements3][elements2]\n",
    "    return result_multiplication"
   ]
  },
  {
   "attachments": {},
   "cell_type": "markdown",
   "metadata": {
    "collapsed": false,
    "pycharm": {
     "name": "#%% md\n"
    }
   },
   "source": [
    "<div align=\"right\"><h3>در سلول زیر بخش مربوط به جمع را کامل کنید<h3></div>"
   ]
  },
  {
   "cell_type": "code",
   "execution_count": 3,
   "metadata": {
    "collapsed": false,
    "pycharm": {
     "name": "#%%\n"
    }
   },
   "outputs": [],
   "source": [
    "def addition_matrix(a, b):\n",
    "    result_addition = []\n",
    "    for elements1 in range(len(a)):\n",
    "        for elements2 in range(len(b[elements1])):\n",
    "            result_addition.append([a[elements1][elements2] + b[elements1][elements2]])\n",
    "    return result_addition"
   ]
  },
  {
   "attachments": {},
   "cell_type": "markdown",
   "metadata": {},
   "source": [
    "<h3><span style=\"color:yellow\"> The function for squaring the matrix </style></h3>"
   ]
  },
  {
   "cell_type": "code",
   "execution_count": 4,
   "metadata": {},
   "outputs": [],
   "source": [
    "def square_list(a):\n",
    "    result_square = []\n",
    "    for elements in range(len(a)):\n",
    "        result_square.append([a[elements][0] ** 2])\n",
    "    return result_square"
   ]
  },
  {
   "attachments": {},
   "cell_type": "markdown",
   "metadata": {
    "collapsed": false,
    "pycharm": {
     "name": "#%% md\n"
    }
   },
   "source": [
    "<div align=\"right\"><h3>در این قسمت به کاربر یک منو نمایش دهید تا عملیات مورد نظر خودش را انتخاب کند<h3></div>"
   ]
  },
  {
   "cell_type": "code",
   "execution_count": 5,
   "metadata": {
    "collapsed": false,
    "pycharm": {
     "name": "#%%\n"
    }
   },
   "outputs": [
    {
     "name": "stdout",
     "output_type": "stream",
     "text": [
      "[[4], [0], [0], [3], [0], [2], [1], [2], [0], [4], [9]]\n"
     ]
    }
   ],
   "source": [
    "n = input('Please Enter What You Want to Calculate')\n",
    "\n",
    "first_matrix = [[4, 0, 0, 3, 0, 2, 1, 2, 0, 4, 9]]\n",
    "second_matrix = square_list(transpose_matrix(first_matrix))\n",
    "\n",
    "if n == '1':\n",
    "    print(transpose_matrix(first_matrix))\n",
    "elif n == '2':\n",
    "    print(multiplication_matrix(first_matrix, second_matrix))\n",
    "elif n == '3':\n",
    "    first_matrix = transpose_matrix(first_matrix)\n",
    "    print(addition_matrix(first_matrix, second_matrix))\n"
   ]
  },
  {
   "attachments": {},
   "cell_type": "markdown",
   "metadata": {},
   "source": [
    "<h3><span style=\"color:cyan\"> Comparing the results of my functions with numpy functions </style></h3>"
   ]
  },
  {
   "cell_type": "code",
   "execution_count": 6,
   "metadata": {},
   "outputs": [],
   "source": [
    "import numpy as np\n",
    "\n",
    "a = [[4, 0, 0, 3, 0, 2, 1, 2, 0, 4, 9]]\n",
    "b = square_list(transpose_matrix(a))\n",
    "\n",
    "def test_transpose():\n",
    "    assert np.array_equal(np.transpose(a), transpose_matrix(a))\n",
    "\n",
    "def test_multiplication():\n",
    "    assert np.array_equal(np.dot(a, b), multiplication_matrix(a, b))\n",
    "\n",
    "def test_addition():\n",
    "    a = transpose_matrix(a)\n",
    "    assert np.array_equal(np.add(a, b), addition_matrix(a, b))"
   ]
  },
  {
   "cell_type": "code",
   "execution_count": 7,
   "metadata": {},
   "outputs": [
    {
     "name": "stdout",
     "output_type": "stream",
     "text": [
      "transpose_matrix is correct\n",
      "multiplication_matrix is correct\n",
      "addition_matrix is correct\n"
     ]
    }
   ],
   "source": [
    "if(test_transpose):\n",
    "    print('transpose_matrix is correct')\n",
    "else:\n",
    "    print('transpose_matrix is incorrect')\n",
    "\n",
    "if(test_multiplication):\n",
    "    print('multiplication_matrix is correct')\n",
    "else:\n",
    "    print('multiplication_matrix is incorrect')\n",
    "\n",
    "if(test_addition):\n",
    "    print('addition_matrix is correct')\n",
    "else:\n",
    "    print('addition_matrix is incorrect')"
   ]
  }
 ],
 "metadata": {
  "kernelspec": {
   "display_name": "Python 3",
   "language": "python",
   "name": "python3"
  },
  "language_info": {
   "codemirror_mode": {
    "name": "ipython",
    "version": 3
   },
   "file_extension": ".py",
   "mimetype": "text/x-python",
   "name": "python",
   "nbconvert_exporter": "python",
   "pygments_lexer": "ipython3",
   "version": "3.10.9"
  }
 },
 "nbformat": 4,
 "nbformat_minor": 0
}
