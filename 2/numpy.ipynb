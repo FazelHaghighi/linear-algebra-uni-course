{
 "cells": [
  {
   "attachments": {},
   "cell_type": "markdown",
   "metadata": {},
   "source": [
    "<center><h2><span style=\"color:green\"> Importing numpy </style></h2></center>"
   ]
  },
  {
   "cell_type": "code",
   "execution_count": 1,
   "metadata": {},
   "outputs": [],
   "source": [
    "import numpy as np"
   ]
  },
  {
   "attachments": {},
   "cell_type": "markdown",
   "metadata": {},
   "source": [
    "<center><h2><span style=\"color:yellow\"> Two 3x3 matrices with random values and their sum </style></h2></center>"
   ]
  },
  {
   "cell_type": "code",
   "execution_count": 2,
   "metadata": {},
   "outputs": [
    {
     "name": "stdout",
     "output_type": "stream",
     "text": [
      "[[0.8957329  0.67310677 1.54515666]\n",
      " [0.49676046 1.74654297 1.33175663]\n",
      " [0.68992753 1.1214425  0.99253808]]\n"
     ]
    }
   ],
   "source": [
    "a = np.random.rand(3, 3)\n",
    "b = np.random.rand(3, 3)\n",
    "c = a + b\n",
    "print(c)"
   ]
  },
  {
   "attachments": {},
   "cell_type": "markdown",
   "metadata": {},
   "source": [
    "<center><h2><span style=\"color:red\"> Two 3x3 matrices with random values and their product </style></h2></center>"
   ]
  },
  {
   "cell_type": "code",
   "execution_count": 3,
   "metadata": {},
   "outputs": [
    {
     "name": "stdout",
     "output_type": "stream",
     "text": [
      "[[0.25876487 0.81950693 1.43569625]\n",
      " [1.62145659 0.59098628 3.76129196]\n",
      " [6.19013456 1.36705148 4.18057055]]\n"
     ]
    }
   ],
   "source": [
    "a = np.random.rand(3, 3)\n",
    "b = np.array([[1, 2, 3], [4, 5, 6], [7, 8, 9]])\n",
    "c = a * b\n",
    "print(c)"
   ]
  },
  {
   "attachments": {},
   "cell_type": "markdown",
   "metadata": {},
   "source": [
    "<center><h2><span style=\"color:purple\"> A unit matrix </style></h2></center>"
   ]
  },
  {
   "cell_type": "code",
   "execution_count": 4,
   "metadata": {},
   "outputs": [
    {
     "name": "stdout",
     "output_type": "stream",
     "text": [
      "[[1. 0. 0.]\n",
      " [0. 1. 0.]\n",
      " [0. 0. 1.]]\n"
     ]
    }
   ],
   "source": [
    "a = np.eye(3)\n",
    "print(a)"
   ]
  },
  {
   "attachments": {},
   "cell_type": "markdown",
   "metadata": {},
   "source": [
    "<center><h2><span style=\"color:cyan\"> A three dimensional matrix </style></h2></center>"
   ]
  },
  {
   "cell_type": "code",
   "execution_count": 5,
   "metadata": {},
   "outputs": [
    {
     "name": "stdout",
     "output_type": "stream",
     "text": [
      "[[[0.36957224 0.56030547 0.09343406]\n",
      "  [0.75938943 0.87178584 0.11832932]\n",
      "  [0.04851547 0.27465251 0.19108876]]\n",
      "\n",
      " [[0.30332841 0.2092037  0.28757161]\n",
      "  [0.37256554 0.67575874 0.99975247]\n",
      "  [0.0737777  0.51655596 0.01639751]]\n",
      "\n",
      " [[0.61339969 0.03997524 0.09836143]\n",
      "  [0.90424986 0.08688942 0.20181364]\n",
      "  [0.36707691 0.89471755 0.51564936]]]\n"
     ]
    }
   ],
   "source": [
    "a = np.random.rand(3, 3, 3)\n",
    "print(a)"
   ]
  },
  {
   "attachments": {},
   "cell_type": "markdown",
   "metadata": {},
   "source": [
    "<center><h2><span style=\"color:orange\"> An array from 1 to 100 with step 4 </style></h2></center>"
   ]
  },
  {
   "cell_type": "code",
   "execution_count": 6,
   "metadata": {},
   "outputs": [
    {
     "name": "stdout",
     "output_type": "stream",
     "text": [
      "[ 1  5  9 13 17 21 25 29 33 37 41 45 49 53 57 61 65 69 73 77 81 85 89 93\n",
      " 97]\n"
     ]
    }
   ],
   "source": [
    "a = np.arange(1, 100, 4)\n",
    "print(a)"
   ]
  },
  {
   "attachments": {},
   "cell_type": "markdown",
   "metadata": {},
   "source": [
    "<center><h2><span style=\"color:teal\"> Two arrays and finding the index of the common elements </style></h2></center>"
   ]
  },
  {
   "cell_type": "code",
   "execution_count": 7,
   "metadata": {},
   "outputs": [
    {
     "name": "stdout",
     "output_type": "stream",
     "text": [
      "[0, 2]\n"
     ]
    }
   ],
   "source": [
    "a = np.array([1, 2, 3, 4, 5])\n",
    "b = np.array([1, 7, 3, 9, 10])\n",
    "c = np.where(np.in1d(a, b))\n",
    "print([i for i in c[0]])  "
   ]
  },
  {
   "attachments": {},
   "cell_type": "markdown",
   "metadata": {},
   "source": [
    "<center><h2><span style=\"color:violet\"> An array with 10 values from 50 to 150 using linspace </style></h2></center>"
   ]
  },
  {
   "cell_type": "code",
   "execution_count": 8,
   "metadata": {},
   "outputs": [
    {
     "name": "stdout",
     "output_type": "stream",
     "text": [
      "[ 50.          61.11111111  72.22222222  83.33333333  94.44444444\n",
      " 105.55555556 116.66666667 127.77777778 138.88888889 150.        ]\n"
     ]
    }
   ],
   "source": [
    "a = np.linspace(50, 150, 10)\n",
    "print(a)"
   ]
  },
  {
   "attachments": {},
   "cell_type": "markdown",
   "metadata": {},
   "source": [
    "<center><h2><span style=\"color:coral\"> A 6x4 matrix with the same value in each row </style></h2></center>"
   ]
  },
  {
   "cell_type": "code",
   "execution_count": 9,
   "metadata": {},
   "outputs": [
    {
     "name": "stdout",
     "output_type": "stream",
     "text": [
      "[[5 5 5 5]\n",
      " [5 5 5 5]\n",
      " [5 5 5 5]\n",
      " [5 5 5 5]\n",
      " [5 5 5 5]\n",
      " [5 5 5 5]]\n"
     ]
    }
   ],
   "source": [
    "a = np.full((6, 4), 5)\n",
    "print(a)"
   ]
  }
 ],
 "metadata": {
  "kernelspec": {
   "display_name": "Python 3",
   "language": "python",
   "name": "python3"
  },
  "language_info": {
   "codemirror_mode": {
    "name": "ipython",
    "version": 3
   },
   "file_extension": ".py",
   "mimetype": "text/x-python",
   "name": "python",
   "nbconvert_exporter": "python",
   "pygments_lexer": "ipython3",
   "version": "3.10.9"
  },
  "orig_nbformat": 4
 },
 "nbformat": 4,
 "nbformat_minor": 2
}
